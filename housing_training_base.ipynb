{
 "cells": [
  {
   "cell_type": "markdown",
   "metadata": {
    "collapsed": true,
    "pycharm": {
     "name": "#%% md\n"
    }
   },
   "source": [
    "### Housing prices training using:\n",
    "* Decision Tree\n",
    "* Random Forest\n",
    "* Gradient boosting: XGBoost\n",
    "\n",
    "First we have to get the data and\n",
    "we have to select features & target + get the data ready"
   ]
  },
  {
   "cell_type": "code",
   "execution_count": 107,
   "outputs": [
    {
     "name": "stdout",
     "output_type": "stream",
     "text": [
      "(1460, 79)\n",
      "(1459, 79)\n",
      "['MSSubClass', 'LotFrontage', 'LotArea', 'OverallQual', 'OverallCond', 'YearBuilt', 'YearRemodAdd', 'MasVnrArea', 'BsmtFinSF1', 'BsmtFinSF2', 'BsmtUnfSF', 'TotalBsmtSF', '1stFlrSF', '2ndFlrSF', 'LowQualFinSF', 'GrLivArea', 'BsmtFullBath', 'BsmtHalfBath', 'FullBath', 'HalfBath', 'BedroomAbvGr', 'KitchenAbvGr', 'TotRmsAbvGrd', 'Fireplaces', 'GarageYrBlt', 'GarageCars', 'GarageArea', 'WoodDeckSF', 'OpenPorchSF', 'EnclosedPorch', '3SsnPorch', 'ScreenPorch', 'PoolArea', 'MiscVal', 'MoSold', 'YrSold']\n",
      "['MSZoning', 'Street', 'Alley', 'LotShape', 'LandContour', 'Utilities', 'LotConfig', 'LandSlope', 'Condition1', 'Condition2', 'BldgType', 'HouseStyle', 'RoofStyle', 'RoofMatl', 'MasVnrType', 'ExterQual', 'ExterCond', 'Foundation', 'BsmtQual', 'BsmtCond', 'BsmtExposure', 'BsmtFinType1', 'BsmtFinType2', 'Heating', 'HeatingQC', 'CentralAir', 'Electrical', 'KitchenQual', 'Functional', 'FireplaceQu', 'GarageType', 'GarageFinish', 'GarageQual', 'GarageCond', 'PavedDrive', 'PoolQC', 'Fence', 'MiscFeature', 'SaleType', 'SaleCondition']\n"
     ]
    }
   ],
   "source": [
    "import pandas as pd\n",
    "import numpy as np\n",
    "import matplotlib.pyplot as plt\n",
    "from sklearn.compose import ColumnTransformer\n",
    "from sklearn.preprocessing import StandardScaler, OneHotEncoder\n",
    "from sklearn.tree import DecisionTreeRegressor\n",
    "from sklearn.ensemble import RandomForestRegressor\n",
    "from sklearn.pipeline import Pipeline\n",
    "from sklearn.impute import SimpleImputer\n",
    "from sklearn.model_selection import train_test_split\n",
    "from sklearn.metrics import mean_squared_error, mean_absolute_error\n",
    "\n",
    "X_full = pd.read_csv(\"data/train.csv\", index_col = \"Id\")\n",
    "X_test = pd.read_csv(\"data/test.csv\", index_col = \"Id\")\n",
    "y_full = X_full.SalePrice\n",
    "X_full.drop(['SalePrice'], axis = 1, inplace = True)\n",
    "\n",
    "plt.rc('figure', autolayout = True)\n",
    "plt.rc('axes', labelweight = 'bold', labelsize = 'large',\n",
    "       titleweight = 'bold', titlesize = 18, titlepad = 18)\n",
    "#plt.rc('animation', html = 'html5')\n",
    "print(X_full.shape)\n",
    "print(X_test.shape)\n",
    "X_full.head()\n",
    "\n",
    "cols_numerical = [col for col in X_full.columns\n",
    "                  if X_full[col].dtype in ['int64', 'float64']]\n",
    "cols_categorical = [col for col in X_full.columns\n",
    "                    if X_full[col].dtype == 'object'\n",
    "                    and X_full[col].nunique() < 10]\n",
    "print(cols_numerical)\n",
    "print(cols_categorical)\n",
    "used_cols = cols_categorical + cols_numerical\n",
    "\n",
    "X_working_full = X_full[used_cols].copy()\n",
    "X_working_test = X_test[used_cols].copy()\n",
    "\n",
    "# X_full.describe()\n",
    "## Splitting the data\n",
    "X_train, X_valid, y_train, y_valid =  train_test_split(X_working_full,\n",
    "                                                       y_full,\n",
    "                                                       train_size=0.8,\n",
    "                                                       test_size=0.2,\n",
    "                                                       random_state=0)"
   ],
   "metadata": {
    "collapsed": false,
    "pycharm": {
     "name": "#%%\n"
    }
   }
  },
  {
   "cell_type": "markdown",
   "source": [
    "### Now that we got the data ready, we have to prepare the preprocessor for getting the data ready\n",
    "* SimpleImputer + StandardScaler for ints\n",
    "* OHE for categorical data"
   ],
   "metadata": {
    "collapsed": false,
    "pycharm": {
     "name": "#%% md\n"
    }
   }
  },
  {
   "cell_type": "code",
   "execution_count": 108,
   "outputs": [],
   "source": [
    "## Data prelucations\n",
    "numeric_transformer = Pipeline( steps = [\n",
    "    ('imputer', SimpleImputer(strategy = 'mean')),\n",
    "    ('scaler', StandardScaler())\n",
    "])\n",
    "categorical_transformer = OneHotEncoder(handle_unknown = 'ignore')\n",
    "\n",
    "## So we use SimpleImputer and StandardScaler for numbers and OHE for cat\n",
    "preprocessor = ColumnTransformer(transformers = [\n",
    "    ('num', numeric_transformer, cols_numerical),\n",
    "    ('cat', categorical_transformer, cols_categorical)\n",
    "])"
   ],
   "metadata": {
    "collapsed": false,
    "pycharm": {
     "name": "#%%\n"
    }
   }
  },
  {
   "cell_type": "markdown",
   "source": [
    "### Since we have the preprocessor we need the model & train data"
   ],
   "metadata": {
    "collapsed": false,
    "pycharm": {
     "name": "#%% md\n"
    }
   }
  },
  {
   "cell_type": "code",
   "execution_count": 135,
   "outputs": [
    {
     "name": "stdout",
     "output_type": "stream",
     "text": [
      "MAE 26290.426919867234\n",
      "MSE 1948230183.7805803\n"
     ]
    }
   ],
   "source": [
    "model_DTR = Pipeline(steps = [\n",
    "    ('preprocessor', preprocessor),\n",
    "    ('classifier', DecisionTreeRegressor(\n",
    "        max_leaf_nodes = 100,\n",
    "        random_state = 1\n",
    "    ))\n",
    "])\n",
    "\n",
    "model_DTR.fit(X_train, y_train)\n",
    "\n",
    "predicted_train = model_DTR.predict(X_train)\n",
    "predicted_validation =  model_DTR.predict(X_valid)\n",
    "\n",
    "print(\"MAE {}\".format(mean_absolute_error(y_valid, predicted_validation)))\n",
    "print(\"MSE {}\".format(mean_squared_error(y_valid, predicted_validation)))\n",
    "#predicted_train.plot()"
   ],
   "metadata": {
    "collapsed": false,
    "pycharm": {
     "name": "#%%\n"
    }
   }
  },
  {
   "cell_type": "markdown",
   "source": [
    "1. Got 17178.613 MAE with\n",
    "```python\n",
    "    model_RF = Pipeline(steps = [\n",
    "        ('preprocessor', preprocessor),\n",
    "        ('classifier', RandomForestRegressor(\n",
    "            n_estimators = 250,\n",
    "            max_depth = 23,\n",
    "            random_state = 1\n",
    "        ))\n",
    "    ])\n",
    "```"
   ],
   "metadata": {
    "collapsed": false,
    "pycharm": {
     "name": "#%% md\n"
    }
   }
  },
  {
   "cell_type": "code",
   "execution_count": 164,
   "outputs": [
    {
     "name": "stdout",
     "output_type": "stream",
     "text": [
      "MAE 17289.906583333337\n",
      "MSE 1128221776.615161\n"
     ]
    }
   ],
   "source": [
    "model_RF = Pipeline(steps = [\n",
    "    ('preprocessor', preprocessor),\n",
    "    ('classifier', RandomForestRegressor(\n",
    "        n_estimators = 250,\n",
    "        max_depth = 23,\n",
    "        random_state = 1\n",
    "    ))\n",
    "])\n",
    "model_RF.fit(X_train, y_train)\n",
    "\n",
    "predicted_train = model_RF.predict(X_train)\n",
    "predicted_validation =  model_RF.predict(X_valid)\n",
    "\n",
    "print(\"MAE {}\".format(mean_absolute_error(y_valid, predicted_validation)))\n",
    "print(\"MSE {}\".format(mean_squared_error(y_valid, predicted_validation)))"
   ],
   "metadata": {
    "collapsed": false,
    "pycharm": {
     "name": "#%%\n"
    }
   }
  }
 ],
 "metadata": {
  "kernelspec": {
   "display_name": "Python 3",
   "language": "python",
   "name": "python3"
  },
  "language_info": {
   "codemirror_mode": {
    "name": "ipython",
    "version": 2
   },
   "file_extension": ".py",
   "mimetype": "text/x-python",
   "name": "python",
   "nbconvert_exporter": "python",
   "pygments_lexer": "ipython2",
   "version": "2.7.6"
  }
 },
 "nbformat": 4,
 "nbformat_minor": 0
}