{
 "cells": [
  {
   "cell_type": "markdown",
   "source": [
    "### Housing prices training using:\n",
    "* Decision Tree\n",
    "* Random Forest\n",
    "* Gradient boosting: XGBoost\n",
    "\n",
    "First we have to get the data and\n",
    "we have to select features & target + get the data ready"
   ],
   "metadata": {
    "collapsed": false
   }
  },
  {
   "cell_type": "code",
   "execution_count": 84,
   "outputs": [
    {
     "name": "stdout",
     "output_type": "stream",
     "text": [
      "(1460, 79)\n",
      "(1459, 79)\n",
      "['MSSubClass', 'LotFrontage', 'LotArea', 'OverallQual', 'OverallCond', 'YearBuilt', 'YearRemodAdd', 'MasVnrArea', 'BsmtFinSF1', 'BsmtFinSF2', 'BsmtUnfSF', 'TotalBsmtSF', '1stFlrSF', '2ndFlrSF', 'LowQualFinSF', 'GrLivArea', 'BsmtFullBath', 'BsmtHalfBath', 'FullBath', 'HalfBath', 'BedroomAbvGr', 'KitchenAbvGr', 'TotRmsAbvGrd', 'Fireplaces', 'GarageYrBlt', 'GarageCars', 'GarageArea', 'WoodDeckSF', 'OpenPorchSF', 'EnclosedPorch', '3SsnPorch', 'ScreenPorch', 'PoolArea', 'MiscVal', 'MoSold', 'YrSold']\n",
      "['MSZoning', 'Street', 'Alley', 'LotShape', 'LandContour', 'Utilities', 'LotConfig', 'LandSlope', 'Neighborhood', 'Condition1', 'Condition2', 'BldgType', 'HouseStyle', 'RoofStyle', 'RoofMatl', 'Exterior1st', 'Exterior2nd', 'MasVnrType', 'ExterQual', 'ExterCond', 'Foundation', 'BsmtQual', 'BsmtCond', 'BsmtExposure', 'BsmtFinType1', 'BsmtFinType2', 'Heating', 'HeatingQC', 'CentralAir', 'Electrical', 'KitchenQual', 'Functional', 'FireplaceQu', 'GarageType', 'GarageFinish', 'GarageQual', 'GarageCond', 'PavedDrive', 'PoolQC', 'Fence', 'MiscFeature', 'SaleType', 'SaleCondition']\n"
     ]
    }
   ],
   "source": [
    "import pandas as pd\n",
    "import numpy as np\n",
    "import matplotlib.pyplot as plt\n",
    "from sklearn.compose import ColumnTransformer\n",
    "from xgboost import XGBRegressor\n",
    "from sklearn.preprocessing import StandardScaler, OneHotEncoder\n",
    "from sklearn.tree import DecisionTreeRegressor\n",
    "from sklearn.ensemble import RandomForestRegressor\n",
    "from sklearn.pipeline import Pipeline\n",
    "from sklearn.impute import SimpleImputer\n",
    "from sklearn.model_selection import train_test_split, cross_val_score\n",
    "from sklearn.metrics import mean_squared_error, mean_absolute_error\n",
    "\n",
    "X_full = pd.read_csv(\"data/train.csv\", index_col = \"Id\")\n",
    "X_test = pd.read_csv(\"data/test.csv\", index_col = \"Id\")\n",
    "y_full = X_full.SalePrice\n",
    "X_full.drop(['SalePrice'], axis = 1, inplace = True)\n",
    "\n",
    "plt.rc('figure', autolayout = True)\n",
    "plt.rc('axes', labelweight = 'bold', labelsize = 'large',\n",
    "       titleweight = 'bold', titlesize = 18, titlepad = 18)\n",
    "#plt.rc('animation', html = 'html5')\n",
    "print(X_full.shape)\n",
    "print(X_test.shape)\n",
    "X_full.head()\n",
    "\n",
    "cols_numerical = [col for col in X_full.columns\n",
    "                  if X_full[col].dtype in ['int64', 'float64']]\n",
    "cols_categorical = [col for col in X_full.columns\n",
    "                    if X_full[col].dtype == 'object']\n",
    "                    #and X_full[col].nunique() < 10]\n",
    "print(cols_numerical)\n",
    "print(cols_categorical)\n",
    "used_cols = cols_categorical + cols_numerical\n",
    "\n",
    "X_col_full = X_full[used_cols].copy()\n",
    "X_working_test = X_test[used_cols].copy()\n",
    "\n",
    "# X_full.describe()\n",
    "## Splitting the data"
   ],
   "metadata": {
    "collapsed": false,
    "pycharm": {
     "name": "#%%\n"
    }
   }
  },
  {
   "cell_type": "markdown",
   "source": [
    "### Now that we got the data ready, we have to prepare the preprocessor for getting the data ready\n",
    "* SimpleImputer + StandardScaler for ints\n",
    "* OHE for categorical data"
   ],
   "metadata": {
    "collapsed": false
   }
  },
  {
   "cell_type": "code",
   "execution_count": 85,
   "outputs": [],
   "source": [
    "## Data prelucations\n",
    "numeric_transformer = Pipeline( steps = [\n",
    "    ('imputer', SimpleImputer(strategy = 'mean')),\n",
    "    ('scaler', StandardScaler())\n",
    "])\n",
    "categorical_transformer = OneHotEncoder(handle_unknown = 'ignore', sparse = False)\n",
    "\n",
    "## So we use SimpleImputer and StandardScaler for numbers and OHE for cat\n",
    "preprocessor = ColumnTransformer(transformers = [\n",
    "    ('num', numeric_transformer, cols_numerical),\n",
    "    ('cat', categorical_transformer, cols_categorical)\n",
    "])"
   ],
   "metadata": {
    "collapsed": false,
    "pycharm": {
     "name": "#%%\n"
    }
   }
  },
  {
   "cell_type": "markdown",
   "source": [
    "### Since we have the preprocessor we need the model & train data"
   ],
   "metadata": {
    "collapsed": false
   }
  },
  {
   "cell_type": "code",
   "execution_count": 86,
   "outputs": [
    {
     "name": "stdout",
     "output_type": "stream",
     "text": [
      "MSE 24335.008061980527\n"
     ]
    }
   ],
   "source": [
    "model_DTR = Pipeline(steps = [\n",
    "    ('preprocessor', preprocessor),\n",
    "    ('classifier', DecisionTreeRegressor(\n",
    "        max_leaf_nodes = 100,\n",
    "        random_state = 1\n",
    "    ))\n",
    "])\n",
    "\n",
    "answer_mean = -1 * cross_val_score(model_DTR, X_full, y_full,\n",
    "                                   cv = 5,\n",
    "                                   scoring = 'neg_mean_absolute_error')\n",
    "\n",
    "print(\"MSE {}\".format(answer_mean.mean()))\n",
    "#predicted_train.plot()"
   ],
   "metadata": {
    "collapsed": false,
    "pycharm": {
     "name": "#%%\n"
    }
   }
  },
  {
   "cell_type": "markdown",
   "source": [
    "1. Got 17650 MAE with\n",
    "```python\n",
    "    model_RF = Pipeline(steps = [\n",
    "        ('preprocessor', preprocessor),\n",
    "        ('classifier', RandomForestRegressor(\n",
    "            n_estimators = 200,\n",
    "            max_depth = 21,\n",
    "            n_jobs = 2,\n",
    "            random_state = 1\n",
    "        ))\n",
    "    ])\n",
    "```"
   ],
   "metadata": {
    "collapsed": false
   }
  },
  {
   "cell_type": "code",
   "execution_count": 87,
   "outputs": [
    {
     "name": "stdout",
     "output_type": "stream",
     "text": [
      "MSE 17628.90453362497\n"
     ]
    }
   ],
   "source": [
    "model_RF = Pipeline(steps = [\n",
    "    ('preprocessor', preprocessor),\n",
    "    ('classifier', RandomForestRegressor(\n",
    "        n_estimators = 200,\n",
    "        max_depth = 21,\n",
    "        n_jobs = 2,\n",
    "        random_state = 1\n",
    "    ))\n",
    "])\n",
    "answer_mean_RF = -1 * cross_val_score(model_RF, X_full, y_full,\n",
    "                                   cv = 5,\n",
    "                                   scoring = 'neg_mean_absolute_error')\n",
    "\n",
    "print(\"MSE {}\".format(answer_mean_RF.mean()))\n"
   ],
   "metadata": {
    "collapsed": false,
    "pycharm": {
     "name": "#%%\n"
    }
   }
  },
  {
   "cell_type": "code",
   "execution_count": 96,
   "outputs": [
    {
     "name": "stdout",
     "output_type": "stream",
     "text": [
      "MSE 3454.9249785958905\n",
      "(1459,)\n",
      "     Id      SalePrice\n",
      "0  1461  124581.750000\n",
      "1  1462  157772.671875\n",
      "2  1463  186010.937500\n",
      "3  1464  184028.562500\n",
      "4  1465  186309.015625\n"
     ]
    }
   ],
   "source": [
    "X_train, X_valid, y_train, y_valid =  train_test_split(X_col_full,\n",
    "                                                       y_full,\n",
    "                                                       train_size=0.8,\n",
    "                                                       test_size=0.2,\n",
    "                                                       random_state=0)\n",
    "OH_X_train_cols = pd.DataFrame(categorical_transformer.fit_transform(X_train[cols_categorical]))\n",
    "OH_X_valid_cols = pd.DataFrame(categorical_transformer.transform(X_valid[cols_categorical]))\n",
    "OH_X_test = pd.DataFrame(categorical_transformer.transform(X_working_test[cols_categorical]))\n",
    "OH_X_full = pd.DataFrame(categorical_transformer.transform(X_col_full[cols_categorical]))\n",
    "\n",
    "OH_X_train_cols.index = X_train.index\n",
    "OH_X_valid_cols.index = X_valid.index\n",
    "OH_X_test.index = X_working_test.index\n",
    "OH_X_full.index = X_col_full.index\n",
    "\n",
    "num_X_train = pd.DataFrame(numeric_transformer.fit_transform(X_train[cols_numerical]))\n",
    "num_X_valid = pd.DataFrame(numeric_transformer.transform(X_valid[cols_numerical]))\n",
    "num_X_test = pd.DataFrame(numeric_transformer.transform(X_working_test[cols_numerical]))\n",
    "num_X_full = pd.DataFrame(numeric_transformer.transform(X_col_full[cols_numerical]))\n",
    "\n",
    "num_X_train.columns = X_train[cols_numerical].columns\n",
    "num_X_valid.columns = X_valid[cols_numerical].columns\n",
    "num_X_test.columns = X_working_test[cols_numerical].columns\n",
    "num_X_full.columns = X_col_full[cols_numerical].columns\n",
    "\n",
    "num_X_train.index = X_train[cols_numerical].index\n",
    "num_X_valid.index = X_valid[cols_numerical].index\n",
    "num_X_test.index = X_working_test[cols_numerical].index\n",
    "num_X_full.index = X_col_full[cols_numerical].index\n",
    "\n",
    "fixed_X_train = pd.concat([OH_X_train_cols, num_X_train], axis = 1)\n",
    "fixed_X_valid = pd.concat([OH_X_valid_cols, num_X_valid], axis = 1)\n",
    "final_X_test = pd.concat([OH_X_test, num_X_test], axis = 1)\n",
    "final_X_full = pd.concat([OH_X_full, num_X_full], axis = 1)\n",
    "# MSE 16489.772206763697\n",
    "model_XGBR = XGBRegressor(\n",
    "    n_estimators = 295,\n",
    "    learning_rate = 0.05,\n",
    "    #gamma=0.2, #???? OMEGALUL\n",
    "    #min_child_weight=2,\n",
    "    #max_depth=20,\n",
    "    n_jobs = 3,\n",
    "    random_state = 1\n",
    ")\n",
    "# answer_mean_XGBR = -1 * cross_val_score(model_XGBR, X_full, y_full,\n",
    "#                                    cv = 5,\n",
    "#                                    scoring = 'neg_mean_absolute_error')\n",
    "model_XGBR.fit(final_X_full, y_full,\n",
    "               # early_stopping_rounds = 30,\n",
    "               # eval_metric=\"mae\",\n",
    "               # eval_set = [(fixed_X_valid, y_valid)],\n",
    "               verbose = False\n",
    "               )\n",
    "answer = model_XGBR.predict(fixed_X_valid)\n",
    "answer_mean_XGBR = mean_absolute_error(y_valid, answer)\n",
    "\n",
    "test_answer = model_XGBR.predict(final_X_test)\n",
    "print(\"MSE {}\".format(answer_mean_XGBR))\n",
    "print(test_answer.shape)\n",
    "output = pd.DataFrame({'Id': X_test.index,\n",
    "                       'SalePrice': test_answer})\n",
    "print(output.head())\n",
    "output.to_csv('submission_XGBR.cvs', index = False)"
   ],
   "metadata": {
    "collapsed": false,
    "pycharm": {
     "name": "#%%\n"
    }
   }
  },
  {
   "cell_type": "code",
   "execution_count": 89,
   "outputs": [
    {
     "data": {
      "text/plain": "       0    1    2    3    4    5    6    7    8    9  ...  GarageArea  \\\nId                                                     ...               \n619  0.0  0.0  0.0  1.0  0.0  0.0  1.0  0.0  0.0  1.0  ...    1.434743   \n871  0.0  0.0  0.0  1.0  0.0  0.0  1.0  0.0  0.0  1.0  ...   -0.791166   \n93   0.0  0.0  0.0  1.0  0.0  0.0  1.0  1.0  0.0  0.0  ...   -0.198864   \n818  0.0  0.0  0.0  1.0  0.0  0.0  1.0  0.0  0.0  1.0  ...    1.831204   \n303  0.0  0.0  0.0  1.0  0.0  0.0  1.0  0.0  0.0  1.0  ...    1.764331   \n\n     WoodDeckSF  OpenPorchSF  EnclosedPorch  3SsnPorch  ScreenPorch  PoolArea  \\\nId                                                                              \n619   -0.742575     0.874116      -0.364703  -0.115333     4.546911 -0.058085   \n871   -0.742575    -0.700461      -0.364703  -0.115333    -0.269109 -0.058085   \n93    -0.742575    -0.700461       0.332315  -0.115333    -0.269109 -0.058085   \n818    0.436137     0.159725      -0.364703  -0.115333    -0.269109 -0.058085   \n303    2.935007     0.480472      -0.364703  -0.115333    -0.269109 -0.058085   \n\n      MiscVal    MoSold    YrSold  \nId                                 \n619 -0.092588  0.256396 -0.613562  \n871 -0.092588  0.623394  0.884118  \n93  -0.092588  0.623394  0.884118  \n818 -0.092588  0.256396  0.135278  \n303 -0.092588 -1.945593 -1.362401  \n\n[5 rows x 299 columns]",
      "text/html": "<div>\n<style scoped>\n    .dataframe tbody tr th:only-of-type {\n        vertical-align: middle;\n    }\n\n    .dataframe tbody tr th {\n        vertical-align: top;\n    }\n\n    .dataframe thead th {\n        text-align: right;\n    }\n</style>\n<table border=\"1\" class=\"dataframe\">\n  <thead>\n    <tr style=\"text-align: right;\">\n      <th></th>\n      <th>0</th>\n      <th>1</th>\n      <th>2</th>\n      <th>3</th>\n      <th>4</th>\n      <th>5</th>\n      <th>6</th>\n      <th>7</th>\n      <th>8</th>\n      <th>9</th>\n      <th>...</th>\n      <th>GarageArea</th>\n      <th>WoodDeckSF</th>\n      <th>OpenPorchSF</th>\n      <th>EnclosedPorch</th>\n      <th>3SsnPorch</th>\n      <th>ScreenPorch</th>\n      <th>PoolArea</th>\n      <th>MiscVal</th>\n      <th>MoSold</th>\n      <th>YrSold</th>\n    </tr>\n    <tr>\n      <th>Id</th>\n      <th></th>\n      <th></th>\n      <th></th>\n      <th></th>\n      <th></th>\n      <th></th>\n      <th></th>\n      <th></th>\n      <th></th>\n      <th></th>\n      <th></th>\n      <th></th>\n      <th></th>\n      <th></th>\n      <th></th>\n      <th></th>\n      <th></th>\n      <th></th>\n      <th></th>\n      <th></th>\n      <th></th>\n    </tr>\n  </thead>\n  <tbody>\n    <tr>\n      <th>619</th>\n      <td>0.0</td>\n      <td>0.0</td>\n      <td>0.0</td>\n      <td>1.0</td>\n      <td>0.0</td>\n      <td>0.0</td>\n      <td>1.0</td>\n      <td>0.0</td>\n      <td>0.0</td>\n      <td>1.0</td>\n      <td>...</td>\n      <td>1.434743</td>\n      <td>-0.742575</td>\n      <td>0.874116</td>\n      <td>-0.364703</td>\n      <td>-0.115333</td>\n      <td>4.546911</td>\n      <td>-0.058085</td>\n      <td>-0.092588</td>\n      <td>0.256396</td>\n      <td>-0.613562</td>\n    </tr>\n    <tr>\n      <th>871</th>\n      <td>0.0</td>\n      <td>0.0</td>\n      <td>0.0</td>\n      <td>1.0</td>\n      <td>0.0</td>\n      <td>0.0</td>\n      <td>1.0</td>\n      <td>0.0</td>\n      <td>0.0</td>\n      <td>1.0</td>\n      <td>...</td>\n      <td>-0.791166</td>\n      <td>-0.742575</td>\n      <td>-0.700461</td>\n      <td>-0.364703</td>\n      <td>-0.115333</td>\n      <td>-0.269109</td>\n      <td>-0.058085</td>\n      <td>-0.092588</td>\n      <td>0.623394</td>\n      <td>0.884118</td>\n    </tr>\n    <tr>\n      <th>93</th>\n      <td>0.0</td>\n      <td>0.0</td>\n      <td>0.0</td>\n      <td>1.0</td>\n      <td>0.0</td>\n      <td>0.0</td>\n      <td>1.0</td>\n      <td>1.0</td>\n      <td>0.0</td>\n      <td>0.0</td>\n      <td>...</td>\n      <td>-0.198864</td>\n      <td>-0.742575</td>\n      <td>-0.700461</td>\n      <td>0.332315</td>\n      <td>-0.115333</td>\n      <td>-0.269109</td>\n      <td>-0.058085</td>\n      <td>-0.092588</td>\n      <td>0.623394</td>\n      <td>0.884118</td>\n    </tr>\n    <tr>\n      <th>818</th>\n      <td>0.0</td>\n      <td>0.0</td>\n      <td>0.0</td>\n      <td>1.0</td>\n      <td>0.0</td>\n      <td>0.0</td>\n      <td>1.0</td>\n      <td>0.0</td>\n      <td>0.0</td>\n      <td>1.0</td>\n      <td>...</td>\n      <td>1.831204</td>\n      <td>0.436137</td>\n      <td>0.159725</td>\n      <td>-0.364703</td>\n      <td>-0.115333</td>\n      <td>-0.269109</td>\n      <td>-0.058085</td>\n      <td>-0.092588</td>\n      <td>0.256396</td>\n      <td>0.135278</td>\n    </tr>\n    <tr>\n      <th>303</th>\n      <td>0.0</td>\n      <td>0.0</td>\n      <td>0.0</td>\n      <td>1.0</td>\n      <td>0.0</td>\n      <td>0.0</td>\n      <td>1.0</td>\n      <td>0.0</td>\n      <td>0.0</td>\n      <td>1.0</td>\n      <td>...</td>\n      <td>1.764331</td>\n      <td>2.935007</td>\n      <td>0.480472</td>\n      <td>-0.364703</td>\n      <td>-0.115333</td>\n      <td>-0.269109</td>\n      <td>-0.058085</td>\n      <td>-0.092588</td>\n      <td>-1.945593</td>\n      <td>-1.362401</td>\n    </tr>\n  </tbody>\n</table>\n<p>5 rows × 299 columns</p>\n</div>"
     },
     "execution_count": 89,
     "metadata": {},
     "output_type": "execute_result"
    }
   ],
   "source": [
    "# tester = np.sum([X_full[col].nunique() for col in X_full.columns if X_full[col].dtype == 'object'and X_full[col].nunique() < 10] )\n",
    "# tester\n",
    "fixed_X_train.head()"
   ],
   "metadata": {
    "collapsed": false,
    "pycharm": {
     "name": "#%%\n"
    }
   }
  }
 ],
 "metadata": {
  "kernelspec": {
   "display_name": "Python 3",
   "language": "python",
   "name": "python3"
  },
  "language_info": {
   "codemirror_mode": {
    "name": "ipython",
    "version": 2
   },
   "file_extension": ".py",
   "mimetype": "text/x-python",
   "name": "python",
   "nbconvert_exporter": "python",
   "pygments_lexer": "ipython2",
   "version": "2.7.6"
  }
 },
 "nbformat": 4,
 "nbformat_minor": 0
}